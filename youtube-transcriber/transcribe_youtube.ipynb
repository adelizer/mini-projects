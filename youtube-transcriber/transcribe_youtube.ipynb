{
  "nbformat": 4,
  "nbformat_minor": 0,
  "metadata": {
    "colab": {
      "provenance": []
    },
    "kernelspec": {
      "name": "python3",
      "display_name": "Python 3"
    },
    "language_info": {
      "name": "python"
    },
    "widgets": {
      "application/vnd.jupyter.widget-state+json": {
        "c4b51802fddd46d4afdf6d605cd49ccd": {
          "model_module": "@jupyter-widgets/controls",
          "model_name": "HBoxModel",
          "model_module_version": "1.5.0",
          "state": {
            "_dom_classes": [],
            "_model_module": "@jupyter-widgets/controls",
            "_model_module_version": "1.5.0",
            "_model_name": "HBoxModel",
            "_view_count": null,
            "_view_module": "@jupyter-widgets/controls",
            "_view_module_version": "1.5.0",
            "_view_name": "HBoxView",
            "box_style": "",
            "children": [
              "IPY_MODEL_4895f6bbc88544d8b56e945c9801e365",
              "IPY_MODEL_74f02d95fce443fc9f4501486ecc1bef",
              "IPY_MODEL_acc1c14cb83f49e7bf1314b33b21b68d"
            ],
            "layout": "IPY_MODEL_538b21cdc023436982fd9d777475e557"
          }
        },
        "4895f6bbc88544d8b56e945c9801e365": {
          "model_module": "@jupyter-widgets/controls",
          "model_name": "HTMLModel",
          "model_module_version": "1.5.0",
          "state": {
            "_dom_classes": [],
            "_model_module": "@jupyter-widgets/controls",
            "_model_module_version": "1.5.0",
            "_model_name": "HTMLModel",
            "_view_count": null,
            "_view_module": "@jupyter-widgets/controls",
            "_view_module_version": "1.5.0",
            "_view_name": "HTMLView",
            "description": "",
            "description_tooltip": null,
            "layout": "IPY_MODEL_bbe1bb859a914d11a71a9e7e820d6577",
            "placeholder": "​",
            "style": "IPY_MODEL_9066848c67c64219947a61c1d51085f0",
            "value": "100%"
          }
        },
        "74f02d95fce443fc9f4501486ecc1bef": {
          "model_module": "@jupyter-widgets/controls",
          "model_name": "FloatProgressModel",
          "model_module_version": "1.5.0",
          "state": {
            "_dom_classes": [],
            "_model_module": "@jupyter-widgets/controls",
            "_model_module_version": "1.5.0",
            "_model_name": "FloatProgressModel",
            "_view_count": null,
            "_view_module": "@jupyter-widgets/controls",
            "_view_module_version": "1.5.0",
            "_view_name": "ProgressView",
            "bar_style": "success",
            "description": "",
            "description_tooltip": null,
            "layout": "IPY_MODEL_a8832f4aff984f0eb82fee84d30d2769",
            "max": 15,
            "min": 0,
            "orientation": "horizontal",
            "style": "IPY_MODEL_d8e8271f0c614edb9f07dee9d0477dd9",
            "value": 15
          }
        },
        "acc1c14cb83f49e7bf1314b33b21b68d": {
          "model_module": "@jupyter-widgets/controls",
          "model_name": "HTMLModel",
          "model_module_version": "1.5.0",
          "state": {
            "_dom_classes": [],
            "_model_module": "@jupyter-widgets/controls",
            "_model_module_version": "1.5.0",
            "_model_name": "HTMLModel",
            "_view_count": null,
            "_view_module": "@jupyter-widgets/controls",
            "_view_module_version": "1.5.0",
            "_view_name": "HTMLView",
            "description": "",
            "description_tooltip": null,
            "layout": "IPY_MODEL_9df54ae9563241f18dc2551d687cded7",
            "placeholder": "​",
            "style": "IPY_MODEL_0e28082305fd44ea94aa21fa38e10d22",
            "value": " 15/15 [01:54&lt;00:00,  6.34s/it]"
          }
        },
        "538b21cdc023436982fd9d777475e557": {
          "model_module": "@jupyter-widgets/base",
          "model_name": "LayoutModel",
          "model_module_version": "1.2.0",
          "state": {
            "_model_module": "@jupyter-widgets/base",
            "_model_module_version": "1.2.0",
            "_model_name": "LayoutModel",
            "_view_count": null,
            "_view_module": "@jupyter-widgets/base",
            "_view_module_version": "1.2.0",
            "_view_name": "LayoutView",
            "align_content": null,
            "align_items": null,
            "align_self": null,
            "border": null,
            "bottom": null,
            "display": null,
            "flex": null,
            "flex_flow": null,
            "grid_area": null,
            "grid_auto_columns": null,
            "grid_auto_flow": null,
            "grid_auto_rows": null,
            "grid_column": null,
            "grid_gap": null,
            "grid_row": null,
            "grid_template_areas": null,
            "grid_template_columns": null,
            "grid_template_rows": null,
            "height": null,
            "justify_content": null,
            "justify_items": null,
            "left": null,
            "margin": null,
            "max_height": null,
            "max_width": null,
            "min_height": null,
            "min_width": null,
            "object_fit": null,
            "object_position": null,
            "order": null,
            "overflow": null,
            "overflow_x": null,
            "overflow_y": null,
            "padding": null,
            "right": null,
            "top": null,
            "visibility": null,
            "width": null
          }
        },
        "bbe1bb859a914d11a71a9e7e820d6577": {
          "model_module": "@jupyter-widgets/base",
          "model_name": "LayoutModel",
          "model_module_version": "1.2.0",
          "state": {
            "_model_module": "@jupyter-widgets/base",
            "_model_module_version": "1.2.0",
            "_model_name": "LayoutModel",
            "_view_count": null,
            "_view_module": "@jupyter-widgets/base",
            "_view_module_version": "1.2.0",
            "_view_name": "LayoutView",
            "align_content": null,
            "align_items": null,
            "align_self": null,
            "border": null,
            "bottom": null,
            "display": null,
            "flex": null,
            "flex_flow": null,
            "grid_area": null,
            "grid_auto_columns": null,
            "grid_auto_flow": null,
            "grid_auto_rows": null,
            "grid_column": null,
            "grid_gap": null,
            "grid_row": null,
            "grid_template_areas": null,
            "grid_template_columns": null,
            "grid_template_rows": null,
            "height": null,
            "justify_content": null,
            "justify_items": null,
            "left": null,
            "margin": null,
            "max_height": null,
            "max_width": null,
            "min_height": null,
            "min_width": null,
            "object_fit": null,
            "object_position": null,
            "order": null,
            "overflow": null,
            "overflow_x": null,
            "overflow_y": null,
            "padding": null,
            "right": null,
            "top": null,
            "visibility": null,
            "width": null
          }
        },
        "9066848c67c64219947a61c1d51085f0": {
          "model_module": "@jupyter-widgets/controls",
          "model_name": "DescriptionStyleModel",
          "model_module_version": "1.5.0",
          "state": {
            "_model_module": "@jupyter-widgets/controls",
            "_model_module_version": "1.5.0",
            "_model_name": "DescriptionStyleModel",
            "_view_count": null,
            "_view_module": "@jupyter-widgets/base",
            "_view_module_version": "1.2.0",
            "_view_name": "StyleView",
            "description_width": ""
          }
        },
        "a8832f4aff984f0eb82fee84d30d2769": {
          "model_module": "@jupyter-widgets/base",
          "model_name": "LayoutModel",
          "model_module_version": "1.2.0",
          "state": {
            "_model_module": "@jupyter-widgets/base",
            "_model_module_version": "1.2.0",
            "_model_name": "LayoutModel",
            "_view_count": null,
            "_view_module": "@jupyter-widgets/base",
            "_view_module_version": "1.2.0",
            "_view_name": "LayoutView",
            "align_content": null,
            "align_items": null,
            "align_self": null,
            "border": null,
            "bottom": null,
            "display": null,
            "flex": null,
            "flex_flow": null,
            "grid_area": null,
            "grid_auto_columns": null,
            "grid_auto_flow": null,
            "grid_auto_rows": null,
            "grid_column": null,
            "grid_gap": null,
            "grid_row": null,
            "grid_template_areas": null,
            "grid_template_columns": null,
            "grid_template_rows": null,
            "height": null,
            "justify_content": null,
            "justify_items": null,
            "left": null,
            "margin": null,
            "max_height": null,
            "max_width": null,
            "min_height": null,
            "min_width": null,
            "object_fit": null,
            "object_position": null,
            "order": null,
            "overflow": null,
            "overflow_x": null,
            "overflow_y": null,
            "padding": null,
            "right": null,
            "top": null,
            "visibility": null,
            "width": null
          }
        },
        "d8e8271f0c614edb9f07dee9d0477dd9": {
          "model_module": "@jupyter-widgets/controls",
          "model_name": "ProgressStyleModel",
          "model_module_version": "1.5.0",
          "state": {
            "_model_module": "@jupyter-widgets/controls",
            "_model_module_version": "1.5.0",
            "_model_name": "ProgressStyleModel",
            "_view_count": null,
            "_view_module": "@jupyter-widgets/base",
            "_view_module_version": "1.2.0",
            "_view_name": "StyleView",
            "bar_color": null,
            "description_width": ""
          }
        },
        "9df54ae9563241f18dc2551d687cded7": {
          "model_module": "@jupyter-widgets/base",
          "model_name": "LayoutModel",
          "model_module_version": "1.2.0",
          "state": {
            "_model_module": "@jupyter-widgets/base",
            "_model_module_version": "1.2.0",
            "_model_name": "LayoutModel",
            "_view_count": null,
            "_view_module": "@jupyter-widgets/base",
            "_view_module_version": "1.2.0",
            "_view_name": "LayoutView",
            "align_content": null,
            "align_items": null,
            "align_self": null,
            "border": null,
            "bottom": null,
            "display": null,
            "flex": null,
            "flex_flow": null,
            "grid_area": null,
            "grid_auto_columns": null,
            "grid_auto_flow": null,
            "grid_auto_rows": null,
            "grid_column": null,
            "grid_gap": null,
            "grid_row": null,
            "grid_template_areas": null,
            "grid_template_columns": null,
            "grid_template_rows": null,
            "height": null,
            "justify_content": null,
            "justify_items": null,
            "left": null,
            "margin": null,
            "max_height": null,
            "max_width": null,
            "min_height": null,
            "min_width": null,
            "object_fit": null,
            "object_position": null,
            "order": null,
            "overflow": null,
            "overflow_x": null,
            "overflow_y": null,
            "padding": null,
            "right": null,
            "top": null,
            "visibility": null,
            "width": null
          }
        },
        "0e28082305fd44ea94aa21fa38e10d22": {
          "model_module": "@jupyter-widgets/controls",
          "model_name": "DescriptionStyleModel",
          "model_module_version": "1.5.0",
          "state": {
            "_model_module": "@jupyter-widgets/controls",
            "_model_module_version": "1.5.0",
            "_model_name": "DescriptionStyleModel",
            "_view_count": null,
            "_view_module": "@jupyter-widgets/base",
            "_view_module_version": "1.2.0",
            "_view_name": "StyleView",
            "description_width": ""
          }
        }
      }
    }
  },
  "cells": [
    {
      "cell_type": "markdown",
      "source": [
        "# Transcribe the hooks of youtube videos\n",
        "\n",
        "\n",
        "\n",
        "\n",
        "1.   Use Youtube's data API, search for the relevant videos, or specify a list of video IDs\n",
        "2.   Download the videos\n",
        "3.   Extract the first 10 seconds of audio\n",
        "4.   Use OpenAI's Whisper model to transcribe the audio and get the data\n",
        "\n",
        "\n",
        "To use youtube's search API you have to create a key as described here https://developers.google.com/youtube/v3/quickstart/python\n",
        "\n",
        "However, you can skip this part and just provide the list of video ids directly\n",
        "\n"
      ],
      "metadata": {
        "id": "IUsWYxIVAoJn"
      }
    },
    {
      "cell_type": "code",
      "source": [
        "!pip install --upgrade google-api-python-client\n",
        "!pip install --upgrade google-auth-oauthlib google-auth-httplib2\n",
        "!pip install --upgrade --force-reinstall \"git+https://github.com/ytdl-org/youtube-dl.git\"\n",
        "!pip install git+https://github.com/openai/whisper.git\n",
        "!sudo apt update && sudo apt install ffmpeg\n",
        "!pip install moviepy"
      ],
      "metadata": {
        "id": "Rg5Oa_f8Olbl"
      },
      "execution_count": null,
      "outputs": []
    },
    {
      "cell_type": "code",
      "source": [
        "# IMPORTANT - add the API key to colab secrets managed on the left\n",
        "# follow instructions here https://developers.google.com/youtube/v3/quickstart/python\n",
        "\n",
        "# step 1: search for relevant youtube videos and and get the list of video ids\n",
        "from google.colab import userdata\n",
        "from googleapiclient.discovery import build\n",
        "from datetime import datetime, timedelta\n",
        "\n",
        "youtube = build('youtube', 'v3', developerKey=userdata.get('YOUTUBE_API_KEY'))\n",
        "\n",
        "SEARCH_PARAM = \"Fireship\"\n",
        "request = youtube.search().list(\n",
        "    part='snippet',\n",
        "    q=SEARCH_PARAM,\n",
        "    type='video',\n",
        "    order='viewCount',\n",
        "    maxResults=25,\n",
        "    publishedAfter=datetime(2024, 1, 1).isoformat() + 'Z',\n",
        "    videoDuration='short',\n",
        "    regionCode='US',\n",
        "    relevanceLanguage='en'\n",
        ")\n",
        "response = request.execute()"
      ],
      "metadata": {
        "id": "FgbWjR3SR2rj"
      },
      "execution_count": 25,
      "outputs": []
    },
    {
      "cell_type": "code",
      "source": [
        "for item in response[\"items\"]:\n",
        "    title = item[\"snippet\"][\"title\"]\n",
        "    if title.isascii():\n",
        "        date = datetime.strptime(\n",
        "            item[\"snippet\"][\"publishTime\"], \"%Y-%m-%dT%H:%M:%SZ\"\n",
        "        ).strftime(\"%Y-%m-%d\")\n",
        "        print(f\"Published at: {date} | {title=}, Video ID: {item['id']['videoId']}\")"
      ],
      "metadata": {
        "colab": {
          "base_uri": "https://localhost:8080/"
        },
        "id": "Do0c-QMcSRcN",
        "outputId": "6bfac25d-7d59-44db-d22f-715810c7ea96"
      },
      "execution_count": 26,
      "outputs": [
        {
          "output_type": "stream",
          "name": "stdout",
          "text": [
            "Published at: 2024-02-23 | title='Google has the best AI now, but there&#39;s a problem...', Video ID: xPA0LFzUDiE\n",
            "Published at: 2024-02-13 | title='how god programmed birds probably', Video ID: X8LglXSG53A\n",
            "Published at: 2024-03-07 | title='Nvidia CUDA in 100 Seconds', Video ID: pPStdjuYzSI\n",
            "Published at: 2024-03-02 | title='Elon&#39;s bombshell lawsuit against OpenAI', Video ID: KbzGy3whpy0\n",
            "Published at: 2024-01-24 | title='real HTML programmers debug in 3D', Video ID: gGWQfV1FCis\n",
            "Published at: 2024-03-08 | title='Apple drops ban hammer on Epic Games over mean tweet', Video ID: wbQwD3QS19I\n",
            "Published at: 2024-01-04 | title='Pascal in 100 Seconds', Video ID: K9mzg8ueiYA\n",
            "Published at: 2024-02-22 | title='Expo in 100 Seconds', Video ID: vFW_TxKLyrE\n",
            "Published at: 2024-02-29 | title='Drizzle ORM in 100 Seconds', Video ID: i_mAHOhpBSA\n",
            "Published at: 2024-03-18 | title='Erlang in 100 Seconds', Video ID: M7uo5jmFDUw\n",
            "Published at: 2024-01-31 | title='History of Entire Frontend under a minute - Inspired from @Fireship  | Tamil', Video ID: qnYvLh54PYE\n",
            "Published at: 2024-02-27 | title='4  time fire #ship #water #bass #vikings #acapella #new #sad #sunset #trending #lyrics #music', Video ID: 580FarXeIPU\n",
            "Published at: 2024-01-29 | title='Fireships sent to sea by the Vikings : Symbol of a Journey After Death #shorts #history', Video ID: xrdyWRr5OGQ\n",
            "Published at: 2024-01-19 | title='Wings of fire ships I despise basically | #banwhirlpoolxanemone #ilovemycat #glory #wingsoffire', Video ID: Iu8XMUPJ6gE\n",
            "Published at: 2024-01-16 | title='gangastar fireship #gangastergang', Video ID: qQ-meCF0478\n"
          ]
        }
      ]
    },
    {
      "cell_type": "code",
      "source": [
        "video_ids = [item['id']['videoId'] for item in response['items'] if item[\"snippet\"][\"title\"].isascii()]"
      ],
      "metadata": {
        "id": "6PVMz-0kmTjS"
      },
      "execution_count": 27,
      "outputs": []
    },
    {
      "cell_type": "code",
      "source": [
        "# using youtube-dl yields this error\n",
        "# ERROR: WARNING: unable to obtain file audio codec with ffprobe\n",
        "#!youtube-dl -x --audio-format mp3 https://www.youtube.com/watch?v=07x_FurAq5s"
      ],
      "metadata": {
        "id": "Kbx2pw8Muxo0"
      },
      "execution_count": 7,
      "outputs": []
    },
    {
      "cell_type": "code",
      "source": [
        "# step 2: download the videos\n",
        "import youtube_dl\n",
        "\n",
        "ydl_opts = { 'outtmpl': './videos/%(title)s-%(id)s.%(ext)s'}\n",
        "with youtube_dl.YoutubeDL(ydl_opts) as ydl:\n",
        "    ydl.download([f'https://www.youtube.com/watch?v={id}' for id in video_ids])"
      ],
      "metadata": {
        "colab": {
          "base_uri": "https://localhost:8080/"
        },
        "id": "1jiYfmM-YuGV",
        "outputId": "44a10803-eb3e-4b15-87ce-b6cf3cdb4f77"
      },
      "execution_count": 28,
      "outputs": [
        {
          "output_type": "stream",
          "name": "stdout",
          "text": [
            "[youtube] xPA0LFzUDiE: Downloading webpage\n"
          ]
        },
        {
          "output_type": "stream",
          "name": "stderr",
          "text": [
            "WARNING: Requested formats are incompatible for merge and will be merged into mkv.\n"
          ]
        },
        {
          "output_type": "stream",
          "name": "stdout",
          "text": [
            "[dashsegments] Total fragments: 14\n",
            "[download] Destination: ./videos/Google has the best AI now, but there's a problem...-xPA0LFzUDiE.f313.webm\n",
            "[download] 100% of 139.53MiB in 00:05\n",
            "[dashsegments] Total fragments: 1\n",
            "[download] Destination: ./videos/Google has the best AI now, but there's a problem...-xPA0LFzUDiE.f140.m4a\n",
            "[download] 100% of 3.63MiB in 00:00\n",
            "[ffmpeg] Merging formats into \"./videos/Google has the best AI now, but there's a problem...-xPA0LFzUDiE.mkv\"\n",
            "Deleting original file ./videos/Google has the best AI now, but there's a problem...-xPA0LFzUDiE.f313.webm (pass -k to keep)\n",
            "Deleting original file ./videos/Google has the best AI now, but there's a problem...-xPA0LFzUDiE.f140.m4a (pass -k to keep)\n",
            "[youtube] X8LglXSG53A: Downloading webpage\n"
          ]
        },
        {
          "output_type": "stream",
          "name": "stderr",
          "text": [
            "WARNING: Requested formats are incompatible for merge and will be merged into mkv.\n"
          ]
        },
        {
          "output_type": "stream",
          "name": "stdout",
          "text": [
            "[dashsegments] Total fragments: 2\n",
            "[download] Destination: ./videos/how god programmed birds probably-X8LglXSG53A.f137.mp4\n",
            "[download] 100% of 12.72MiB in 00:00\n",
            "[dashsegments] Total fragments: 1\n",
            "[download] Destination: ./videos/how god programmed birds probably-X8LglXSG53A.f251.webm\n",
            "[download] 100% of 716.12KiB in 00:00\n",
            "[ffmpeg] Merging formats into \"./videos/how god programmed birds probably-X8LglXSG53A.mkv\"\n",
            "Deleting original file ./videos/how god programmed birds probably-X8LglXSG53A.f137.mp4 (pass -k to keep)\n",
            "Deleting original file ./videos/how god programmed birds probably-X8LglXSG53A.f251.webm (pass -k to keep)\n",
            "[youtube] pPStdjuYzSI: Downloading webpage\n"
          ]
        },
        {
          "output_type": "stream",
          "name": "stderr",
          "text": [
            "WARNING: Requested formats are incompatible for merge and will be merged into mkv.\n"
          ]
        },
        {
          "output_type": "stream",
          "name": "stdout",
          "text": [
            "[dashsegments] Total fragments: 10\n",
            "[download] Destination: ./videos/Nvidia CUDA in 100 Seconds-pPStdjuYzSI.f313.webm\n",
            "[download] 100% of 90.98MiB in 00:03\n",
            "[dashsegments] Total fragments: 1\n",
            "[download] Destination: ./videos/Nvidia CUDA in 100 Seconds-pPStdjuYzSI.f140.m4a\n",
            "[download] 100% of 2.97MiB in 00:00\n",
            "[ffmpeg] Merging formats into \"./videos/Nvidia CUDA in 100 Seconds-pPStdjuYzSI.mkv\"\n",
            "Deleting original file ./videos/Nvidia CUDA in 100 Seconds-pPStdjuYzSI.f313.webm (pass -k to keep)\n",
            "Deleting original file ./videos/Nvidia CUDA in 100 Seconds-pPStdjuYzSI.f140.m4a (pass -k to keep)\n",
            "[youtube] KbzGy3whpy0: Downloading webpage\n"
          ]
        },
        {
          "output_type": "stream",
          "name": "stderr",
          "text": [
            "WARNING: Requested formats are incompatible for merge and will be merged into mkv.\n"
          ]
        },
        {
          "output_type": "stream",
          "name": "stdout",
          "text": [
            "[dashsegments] Total fragments: 13\n",
            "[download] Destination: ./videos/Elon's bombshell lawsuit against OpenAI-KbzGy3whpy0.f313.webm\n",
            "[download] 100% of 129.01MiB in 00:05\n",
            "[dashsegments] Total fragments: 1\n",
            "[download] Destination: ./videos/Elon's bombshell lawsuit against OpenAI-KbzGy3whpy0.f140.m4a\n",
            "[download] 100% of 3.38MiB in 00:00\n",
            "[ffmpeg] Merging formats into \"./videos/Elon's bombshell lawsuit against OpenAI-KbzGy3whpy0.mkv\"\n",
            "Deleting original file ./videos/Elon's bombshell lawsuit against OpenAI-KbzGy3whpy0.f313.webm (pass -k to keep)\n",
            "Deleting original file ./videos/Elon's bombshell lawsuit against OpenAI-KbzGy3whpy0.f140.m4a (pass -k to keep)\n",
            "[youtube] gGWQfV1FCis: Downloading webpage\n",
            "[dashsegments] Total fragments: 1\n",
            "[download] Destination: ./videos/real HTML programmers debug in 3D-gGWQfV1FCis.f137.mp4\n",
            "[download] 100% of 7.05MiB in 00:00\n",
            "[dashsegments] Total fragments: 1\n",
            "[download] Destination: ./videos/real HTML programmers debug in 3D-gGWQfV1FCis.f140.m4a\n",
            "[download] 100% of 780.12KiB in 00:00\n",
            "[ffmpeg] Merging formats into \"./videos/real HTML programmers debug in 3D-gGWQfV1FCis.mp4\"\n",
            "Deleting original file ./videos/real HTML programmers debug in 3D-gGWQfV1FCis.f137.mp4 (pass -k to keep)\n",
            "Deleting original file ./videos/real HTML programmers debug in 3D-gGWQfV1FCis.f140.m4a (pass -k to keep)\n",
            "[youtube] wbQwD3QS19I: Downloading webpage\n"
          ]
        },
        {
          "output_type": "stream",
          "name": "stderr",
          "text": [
            "WARNING: Requested formats are incompatible for merge and will be merged into mkv.\n"
          ]
        },
        {
          "output_type": "stream",
          "name": "stdout",
          "text": [
            "[dashsegments] Total fragments: 13\n",
            "[download] Destination: ./videos/Apple drops ban hammer on Epic Games over mean tweet-wbQwD3QS19I.f313.webm\n",
            "[download] 100% of 126.10MiB in 00:16\n",
            "[dashsegments] Total fragments: 1\n",
            "[download] Destination: ./videos/Apple drops ban hammer on Epic Games over mean tweet-wbQwD3QS19I.f140.m4a\n",
            "[download] 100% of 3.34MiB in 00:00\n",
            "[ffmpeg] Merging formats into \"./videos/Apple drops ban hammer on Epic Games over mean tweet-wbQwD3QS19I.mkv\"\n",
            "Deleting original file ./videos/Apple drops ban hammer on Epic Games over mean tweet-wbQwD3QS19I.f313.webm (pass -k to keep)\n",
            "Deleting original file ./videos/Apple drops ban hammer on Epic Games over mean tweet-wbQwD3QS19I.f140.m4a (pass -k to keep)\n",
            "[youtube] K9mzg8ueiYA: Downloading webpage\n",
            "[dashsegments] Total fragments: 8\n",
            "[download] Destination: ./videos/Pascal in 100 Seconds-K9mzg8ueiYA.f313.webm\n",
            "[download] 100% of 78.15MiB in 00:02\n",
            "[dashsegments] Total fragments: 1\n",
            "[download] Destination: ./videos/Pascal in 100 Seconds-K9mzg8ueiYA.f251.webm\n",
            "[download] 100% of 2.51MiB in 00:00\n",
            "[ffmpeg] Merging formats into \"./videos/Pascal in 100 Seconds-K9mzg8ueiYA.webm\"\n",
            "Deleting original file ./videos/Pascal in 100 Seconds-K9mzg8ueiYA.f313.webm (pass -k to keep)\n",
            "Deleting original file ./videos/Pascal in 100 Seconds-K9mzg8ueiYA.f251.webm (pass -k to keep)\n",
            "[youtube] vFW_TxKLyrE: Downloading webpage\n",
            "[dashsegments] Total fragments: 6\n",
            "[download] Destination: ./videos/Expo in 100 Seconds-vFW_TxKLyrE.f313.webm\n",
            "[download] 100% of 56.33MiB in 00:01\n",
            "[dashsegments] Total fragments: 1\n",
            "[download] Destination: ./videos/Expo in 100 Seconds-vFW_TxKLyrE.f251.webm\n",
            "[download] 100% of 2.75MiB in 00:00\n",
            "[ffmpeg] Merging formats into \"./videos/Expo in 100 Seconds-vFW_TxKLyrE.webm\"\n",
            "Deleting original file ./videos/Expo in 100 Seconds-vFW_TxKLyrE.f313.webm (pass -k to keep)\n",
            "Deleting original file ./videos/Expo in 100 Seconds-vFW_TxKLyrE.f251.webm (pass -k to keep)\n",
            "[youtube] i_mAHOhpBSA: Downloading webpage\n"
          ]
        },
        {
          "output_type": "stream",
          "name": "stderr",
          "text": [
            "WARNING: Requested formats are incompatible for merge and will be merged into mkv.\n"
          ]
        },
        {
          "output_type": "stream",
          "name": "stdout",
          "text": [
            "[dashsegments] Total fragments: 7\n",
            "[download] Destination: ./videos/Drizzle ORM in 100 Seconds-i_mAHOhpBSA.f313.webm\n",
            "[download] 100% of 62.64MiB in 00:01\n",
            "[dashsegments] Total fragments: 1\n",
            "[download] Destination: ./videos/Drizzle ORM in 100 Seconds-i_mAHOhpBSA.f140.m4a\n",
            "[download] 100% of 2.69MiB in 00:00\n",
            "[ffmpeg] Merging formats into \"./videos/Drizzle ORM in 100 Seconds-i_mAHOhpBSA.mkv\"\n",
            "Deleting original file ./videos/Drizzle ORM in 100 Seconds-i_mAHOhpBSA.f313.webm (pass -k to keep)\n",
            "Deleting original file ./videos/Drizzle ORM in 100 Seconds-i_mAHOhpBSA.f140.m4a (pass -k to keep)\n",
            "[youtube] M7uo5jmFDUw: Downloading webpage\n"
          ]
        },
        {
          "output_type": "stream",
          "name": "stderr",
          "text": [
            "WARNING: Requested formats are incompatible for merge and will be merged into mkv.\n"
          ]
        },
        {
          "output_type": "stream",
          "name": "stdout",
          "text": [
            "[dashsegments] Total fragments: 9\n",
            "[download] Destination: ./videos/Erlang in 100 Seconds-M7uo5jmFDUw.f313.webm\n",
            "[download] 100% of 83.58MiB in 00:03\n",
            "[dashsegments] Total fragments: 1\n",
            "[download] Destination: ./videos/Erlang in 100 Seconds-M7uo5jmFDUw.f140.m4a\n",
            "[download] 100% of 2.53MiB in 00:00\n",
            "[ffmpeg] Merging formats into \"./videos/Erlang in 100 Seconds-M7uo5jmFDUw.mkv\"\n",
            "Deleting original file ./videos/Erlang in 100 Seconds-M7uo5jmFDUw.f313.webm (pass -k to keep)\n",
            "Deleting original file ./videos/Erlang in 100 Seconds-M7uo5jmFDUw.f140.m4a (pass -k to keep)\n",
            "[youtube] qnYvLh54PYE: Downloading webpage\n"
          ]
        },
        {
          "output_type": "stream",
          "name": "stderr",
          "text": [
            "WARNING: Requested formats are incompatible for merge and will be merged into mkv.\n"
          ]
        },
        {
          "output_type": "stream",
          "name": "stdout",
          "text": [
            "[dashsegments] Total fragments: 3\n",
            "[download] Destination: ./videos/History of Entire Frontend under a minute - Inspired from @Fireship  _ Tamil-qnYvLh54PYE.f299.mp4\n",
            "[download] 100% of 22.18MiB in 00:08\n",
            "[dashsegments] Total fragments: 1\n",
            "[download] Destination: ./videos/History of Entire Frontend under a minute - Inspired from @Fireship  _ Tamil-qnYvLh54PYE.f251.webm\n",
            "[download] 100% of 960.35KiB in 00:00\n",
            "[ffmpeg] Merging formats into \"./videos/History of Entire Frontend under a minute - Inspired from @Fireship  _ Tamil-qnYvLh54PYE.mkv\"\n",
            "Deleting original file ./videos/History of Entire Frontend under a minute - Inspired from @Fireship  _ Tamil-qnYvLh54PYE.f299.mp4 (pass -k to keep)\n",
            "Deleting original file ./videos/History of Entire Frontend under a minute - Inspired from @Fireship  _ Tamil-qnYvLh54PYE.f251.webm (pass -k to keep)\n",
            "[youtube] 580FarXeIPU: Downloading webpage\n"
          ]
        },
        {
          "output_type": "stream",
          "name": "stderr",
          "text": [
            "WARNING: Requested formats are incompatible for merge and will be merged into mkv.\n"
          ]
        },
        {
          "output_type": "stream",
          "name": "stdout",
          "text": [
            "[dashsegments] Total fragments: 1\n",
            "[download] Destination: ./videos/4  time fire #ship #water #bass #vikings #acapella #new #sad #sunset #trending #lyrics #music-580FarXeIPU.f136.mp4\n",
            "[download] 100% of 3.52MiB in 00:00\n",
            "[dashsegments] Total fragments: 1\n",
            "[download] Destination: ./videos/4  time fire #ship #water #bass #vikings #acapella #new #sad #sunset #trending #lyrics #music-580FarXeIPU.f251.webm\n",
            "[download] 100% of 295.95KiB in 00:00\n",
            "[ffmpeg] Merging formats into \"./videos/4  time fire #ship #water #bass #vikings #acapella #new #sad #sunset #trending #lyrics #music-580FarXeIPU.mkv\"\n",
            "Deleting original file ./videos/4  time fire #ship #water #bass #vikings #acapella #new #sad #sunset #trending #lyrics #music-580FarXeIPU.f136.mp4 (pass -k to keep)\n",
            "Deleting original file ./videos/4  time fire #ship #water #bass #vikings #acapella #new #sad #sunset #trending #lyrics #music-580FarXeIPU.f251.webm (pass -k to keep)\n",
            "[youtube] xrdyWRr5OGQ: Downloading webpage\n"
          ]
        },
        {
          "output_type": "stream",
          "name": "stderr",
          "text": [
            "WARNING: Requested formats are incompatible for merge and will be merged into mkv.\n"
          ]
        },
        {
          "output_type": "stream",
          "name": "stdout",
          "text": [
            "[dashsegments] Total fragments: 2\n",
            "[download] Destination: ./videos/Fireships sent to sea by the Vikings  - Symbol of a Journey After Death #shorts #history-xrdyWRr5OGQ.f136.mp4\n",
            "[download] 100% of 13.28MiB in 00:03\n",
            "[dashsegments] Total fragments: 1\n",
            "[download] Destination: ./videos/Fireships sent to sea by the Vikings  - Symbol of a Journey After Death #shorts #history-xrdyWRr5OGQ.f251.webm\n",
            "[download] 100% of 1.03MiB in 00:00\n",
            "[ffmpeg] Merging formats into \"./videos/Fireships sent to sea by the Vikings  - Symbol of a Journey After Death #shorts #history-xrdyWRr5OGQ.mkv\"\n",
            "Deleting original file ./videos/Fireships sent to sea by the Vikings  - Symbol of a Journey After Death #shorts #history-xrdyWRr5OGQ.f136.mp4 (pass -k to keep)\n",
            "Deleting original file ./videos/Fireships sent to sea by the Vikings  - Symbol of a Journey After Death #shorts #history-xrdyWRr5OGQ.f251.webm (pass -k to keep)\n",
            "[youtube] Iu8XMUPJ6gE: Downloading webpage\n",
            "[dashsegments] Total fragments: 1\n",
            "[download] Destination: ./videos/Wings of fire ships I despise basically _ #banwhirlpoolxanemone #ilovemycat #glory #wingsoffire-Iu8XMUPJ6gE.f137.mp4\n",
            "[download] 100% of 1.78MiB in 00:00\n",
            "[dashsegments] Total fragments: 1\n",
            "[download] Destination: ./videos/Wings of fire ships I despise basically _ #banwhirlpoolxanemone #ilovemycat #glory #wingsoffire-Iu8XMUPJ6gE.f140.m4a\n",
            "[download] 100% of 149.50KiB in 00:00\n",
            "[ffmpeg] Merging formats into \"./videos/Wings of fire ships I despise basically _ #banwhirlpoolxanemone #ilovemycat #glory #wingsoffire-Iu8XMUPJ6gE.mp4\"\n",
            "Deleting original file ./videos/Wings of fire ships I despise basically _ #banwhirlpoolxanemone #ilovemycat #glory #wingsoffire-Iu8XMUPJ6gE.f137.mp4 (pass -k to keep)\n",
            "Deleting original file ./videos/Wings of fire ships I despise basically _ #banwhirlpoolxanemone #ilovemycat #glory #wingsoffire-Iu8XMUPJ6gE.f140.m4a (pass -k to keep)\n",
            "[youtube] qQ-meCF0478: Downloading webpage\n"
          ]
        },
        {
          "output_type": "stream",
          "name": "stderr",
          "text": [
            "WARNING: Requested formats are incompatible for merge and will be merged into mkv.\n"
          ]
        },
        {
          "output_type": "stream",
          "name": "stdout",
          "text": [
            "[dashsegments] Total fragments: 1\n",
            "[download] Destination: ./videos/gangastar fireship #gangastergang-qQ-meCF0478.f137.mp4\n",
            "[download] 100% of 8.59MiB in 00:03\n",
            "[dashsegments] Total fragments: 1\n",
            "[download] Destination: ./videos/gangastar fireship #gangastergang-qQ-meCF0478.f251.webm\n",
            "[download] 100% of 248.30KiB in 00:00\n",
            "[ffmpeg] Merging formats into \"./videos/gangastar fireship #gangastergang-qQ-meCF0478.mkv\"\n",
            "Deleting original file ./videos/gangastar fireship #gangastergang-qQ-meCF0478.f137.mp4 (pass -k to keep)\n",
            "Deleting original file ./videos/gangastar fireship #gangastergang-qQ-meCF0478.f251.webm (pass -k to keep)\n"
          ]
        }
      ]
    },
    {
      "cell_type": "code",
      "source": [
        "# step 3: extract the audio after clipping to the first 10 seconds\n",
        "import os\n",
        "from moviepy.editor import VideoFileClip\n",
        "\n",
        "os.makedirs(\"audio\", exist_ok=True)\n",
        "\n",
        "MAX_DURATION = 8  # seconds\n",
        "for file_name in os.listdir(\"./videos\"):\n",
        "    video = VideoFileClip(os.path.join(\"videos\", file_name)).subclip(0, MAX_DURATION)\n",
        "    audio = video.audio\n",
        "    audio.write_audiofile(os.path.join(\"audio\",\n",
        "                                       \"\".join(file_name.split(\".\")[:-1]) + \".mp3\"))"
      ],
      "metadata": {
        "colab": {
          "base_uri": "https://localhost:8080/"
        },
        "id": "3OU5cRKITOZG",
        "outputId": "86bd2ce5-71ec-4b5e-fda6-f1a91ea58b3b"
      },
      "execution_count": 30,
      "outputs": [
        {
          "output_type": "stream",
          "name": "stderr",
          "text": [
            "chunk:  95%|█████████▍| 209/221 [00:33<00:00, 735.73it/s, now=None]"
          ]
        },
        {
          "output_type": "stream",
          "name": "stdout",
          "text": [
            "MoviePy - Writing audio in audio/Pascal in 100 Seconds-K9mzg8ueiYA.mp3\n"
          ]
        },
        {
          "output_type": "stream",
          "name": "stderr",
          "text": [
            "\n",
            "chunk:   0%|          | 0/177 [00:00<?, ?it/s, now=None]\u001b[A\n",
            "chunk:  27%|██▋       | 48/177 [00:00<00:00, 473.59it/s, now=None]\u001b[A\n",
            "chunk:  54%|█████▍    | 96/177 [00:00<00:00, 386.00it/s, now=None]\u001b[A\n",
            "chunk:  77%|███████▋  | 136/177 [00:00<00:00, 319.50it/s, now=None]\u001b[A\n",
            "chunk:  96%|█████████▌| 170/177 [00:00<00:00, 319.60it/s, now=None]\u001b[A\n",
            "chunk:  95%|█████████▍| 209/221 [00:34<00:00, 735.73it/s, now=None]"
          ]
        },
        {
          "output_type": "stream",
          "name": "stdout",
          "text": [
            "MoviePy - Done.\n"
          ]
        },
        {
          "output_type": "stream",
          "name": "stderr",
          "text": [
            "chunk:  95%|█████████▍| 209/221 [00:34<00:00, 735.73it/s, now=None]"
          ]
        },
        {
          "output_type": "stream",
          "name": "stdout",
          "text": [
            "MoviePy - Writing audio in audio/Google has the best AI now, but there's a problem-xPA0LFzUDiE.mp3\n"
          ]
        },
        {
          "output_type": "stream",
          "name": "stderr",
          "text": [
            "\n",
            "chunk:   0%|          | 0/177 [00:00<?, ?it/s, now=None]\u001b[A\n",
            "chunk:  34%|███▍      | 60/177 [00:00<00:00, 587.29it/s, now=None]\u001b[A\n",
            "chunk:  67%|██████▋   | 119/177 [00:00<00:00, 494.28it/s, now=None]\u001b[A\n",
            "chunk:  96%|█████████▌| 170/177 [00:00<00:00, 466.69it/s, now=None]\u001b[A\n",
            "chunk:  95%|█████████▍| 209/221 [00:35<00:00, 735.73it/s, now=None]"
          ]
        },
        {
          "output_type": "stream",
          "name": "stdout",
          "text": [
            "MoviePy - Done.\n"
          ]
        },
        {
          "output_type": "stream",
          "name": "stderr",
          "text": [
            "chunk:  95%|█████████▍| 209/221 [00:35<00:00, 735.73it/s, now=None]"
          ]
        },
        {
          "output_type": "stream",
          "name": "stdout",
          "text": [
            "MoviePy - Writing audio in audio/Erlang in 100 Seconds-M7uo5jmFDUw.mp3\n"
          ]
        },
        {
          "output_type": "stream",
          "name": "stderr",
          "text": [
            "\n",
            "chunk:   0%|          | 0/177 [00:00<?, ?it/s, now=None]\u001b[A\n",
            "chunk:  20%|██        | 36/177 [00:00<00:00, 281.61it/s, now=None]\u001b[A\n",
            "chunk:  58%|█████▊    | 102/177 [00:00<00:00, 464.74it/s, now=None]\u001b[A\n",
            "chunk:  96%|█████████▌| 170/177 [00:00<00:00, 549.85it/s, now=None]\u001b[A\n",
            "chunk:  95%|█████████▍| 209/221 [00:36<00:00, 735.73it/s, now=None]"
          ]
        },
        {
          "output_type": "stream",
          "name": "stdout",
          "text": [
            "MoviePy - Done.\n",
            "MoviePy - Writing audio in audio/Fireships sent to sea by the Vikings  - Symbol of a Journey After Death #shorts #history-xrdyWRr5OGQ.mp3\n"
          ]
        },
        {
          "output_type": "stream",
          "name": "stderr",
          "text": [
            "\n",
            "chunk:   0%|          | 0/177 [00:00<?, ?it/s, now=None]\u001b[A\n",
            "chunk:  46%|████▌     | 81/177 [00:00<00:00, 781.70it/s, now=None]\u001b[A\n",
            "chunk:  90%|█████████ | 160/177 [00:00<00:00, 664.12it/s, now=None]\u001b[A\n",
            "chunk:  95%|█████████▍| 209/221 [00:36<00:00, 735.73it/s, now=None]"
          ]
        },
        {
          "output_type": "stream",
          "name": "stdout",
          "text": [
            "MoviePy - Done.\n"
          ]
        },
        {
          "output_type": "stream",
          "name": "stderr",
          "text": [
            "chunk:  95%|█████████▍| 209/221 [00:37<00:00, 735.73it/s, now=None]"
          ]
        },
        {
          "output_type": "stream",
          "name": "stdout",
          "text": [
            "MoviePy - Writing audio in audio/Apple drops ban hammer on Epic Games over mean tweet-wbQwD3QS19I.mp3\n"
          ]
        },
        {
          "output_type": "stream",
          "name": "stderr",
          "text": [
            "\n",
            "chunk:   0%|          | 0/177 [00:00<?, ?it/s, now=None]\u001b[A\n",
            "chunk:  57%|█████▋    | 101/177 [00:00<00:00, 994.41it/s, now=None]\u001b[A\n",
            "chunk:  95%|█████████▍| 209/221 [00:37<00:00, 735.73it/s, now=None]"
          ]
        },
        {
          "output_type": "stream",
          "name": "stdout",
          "text": [
            "MoviePy - Done.\n"
          ]
        },
        {
          "output_type": "stream",
          "name": "stderr",
          "text": [
            "chunk:  95%|█████████▍| 209/221 [00:37<00:00, 735.73it/s, now=None]"
          ]
        },
        {
          "output_type": "stream",
          "name": "stdout",
          "text": [
            "MoviePy - Writing audio in audio/Elon's bombshell lawsuit against OpenAI-KbzGy3whpy0.mp3\n"
          ]
        },
        {
          "output_type": "stream",
          "name": "stderr",
          "text": [
            "\n",
            "chunk:   0%|          | 0/177 [00:00<?, ?it/s, now=None]\u001b[A\n",
            "chunk:  56%|█████▌    | 99/177 [00:00<00:00, 988.13it/s, now=None]\u001b[A\n",
            "chunk:  95%|█████████▍| 209/221 [00:37<00:00, 735.73it/s, now=None]"
          ]
        },
        {
          "output_type": "stream",
          "name": "stdout",
          "text": [
            "MoviePy - Done.\n"
          ]
        },
        {
          "output_type": "stream",
          "name": "stderr",
          "text": [
            "chunk:  95%|█████████▍| 209/221 [00:38<00:00, 735.73it/s, now=None]"
          ]
        },
        {
          "output_type": "stream",
          "name": "stdout",
          "text": [
            "MoviePy - Writing audio in audio/gangastar fireship #gangastergang-qQ-meCF0478.mp3\n"
          ]
        },
        {
          "output_type": "stream",
          "name": "stderr",
          "text": [
            "\n",
            "chunk:   0%|          | 0/177 [00:00<?, ?it/s, now=None]\u001b[A\n",
            "chunk:  44%|████▎     | 77/177 [00:00<00:00, 759.77it/s, now=None]\u001b[A\n",
            "chunk:  86%|████████▋ | 153/177 [00:00<00:00, 615.32it/s, now=None]\u001b[A\n",
            "chunk:  95%|█████████▍| 209/221 [00:38<00:00, 735.73it/s, now=None]"
          ]
        },
        {
          "output_type": "stream",
          "name": "stdout",
          "text": [
            "MoviePy - Done.\n",
            "MoviePy - Writing audio in audio/Wings of fire ships I despise basically _ #banwhirlpoolxanemone #ilovemycat #glory #wingsoffire-Iu8XMUPJ6gE.mp3\n"
          ]
        },
        {
          "output_type": "stream",
          "name": "stderr",
          "text": [
            "\n",
            "chunk:   0%|          | 0/177 [00:00<?, ?it/s, now=None]\u001b[A\n",
            "chunk:  33%|███▎      | 58/177 [00:00<00:00, 578.87it/s, now=None]\u001b[A\n",
            "chunk:  66%|██████▌   | 116/177 [00:00<00:00, 530.98it/s, now=None]\u001b[A\n",
            "chunk:  96%|█████████▌| 170/177 [00:00<00:00, 517.00it/s, now=None]\u001b[A\n",
            "chunk:  95%|█████████▍| 209/221 [00:39<00:00, 735.73it/s, now=None]"
          ]
        },
        {
          "output_type": "stream",
          "name": "stdout",
          "text": [
            "MoviePy - Done.\n"
          ]
        },
        {
          "output_type": "stream",
          "name": "stderr",
          "text": [
            "chunk:  95%|█████████▍| 209/221 [00:39<00:00, 735.73it/s, now=None]"
          ]
        },
        {
          "output_type": "stream",
          "name": "stdout",
          "text": [
            "MoviePy - Writing audio in audio/Drizzle ORM in 100 Seconds-i_mAHOhpBSA.mp3\n"
          ]
        },
        {
          "output_type": "stream",
          "name": "stderr",
          "text": [
            "\n",
            "chunk:   0%|          | 0/177 [00:00<?, ?it/s, now=None]\u001b[A\n",
            "chunk:  37%|███▋      | 66/177 [00:00<00:00, 656.71it/s, now=None]\u001b[A\n",
            "chunk:  75%|███████▍  | 132/177 [00:00<00:00, 622.40it/s, now=None]\u001b[A\n",
            "chunk:  95%|█████████▍| 209/221 [00:39<00:00, 735.73it/s, now=None]"
          ]
        },
        {
          "output_type": "stream",
          "name": "stdout",
          "text": [
            "MoviePy - Done.\n"
          ]
        },
        {
          "output_type": "stream",
          "name": "stderr",
          "text": [
            "chunk:  95%|█████████▍| 209/221 [00:40<00:00, 735.73it/s, now=None]"
          ]
        },
        {
          "output_type": "stream",
          "name": "stdout",
          "text": [
            "MoviePy - Writing audio in audio/Nvidia CUDA in 100 Seconds-pPStdjuYzSI.mp3\n"
          ]
        },
        {
          "output_type": "stream",
          "name": "stderr",
          "text": [
            "\n",
            "chunk:   0%|          | 0/177 [00:00<?, ?it/s, now=None]\u001b[A\n",
            "chunk:  41%|████      | 72/177 [00:00<00:00, 705.00it/s, now=None]\u001b[A\n",
            "chunk:  81%|████████  | 143/177 [00:00<00:00, 647.40it/s, now=None]\u001b[A\n",
            "chunk:  95%|█████████▍| 209/221 [00:40<00:00, 735.73it/s, now=None]"
          ]
        },
        {
          "output_type": "stream",
          "name": "stdout",
          "text": [
            "MoviePy - Done.\n",
            "MoviePy - Writing audio in audio/real HTML programmers debug in 3D-gGWQfV1FCis.mp3\n"
          ]
        },
        {
          "output_type": "stream",
          "name": "stderr",
          "text": [
            "\n",
            "chunk:   0%|          | 0/177 [00:00<?, ?it/s, now=None]\u001b[A\n",
            "chunk:  52%|█████▏    | 92/177 [00:00<00:00, 899.19it/s, now=None]\u001b[A\n",
            "chunk:  95%|█████████▍| 209/221 [00:40<00:00, 735.73it/s, now=None]"
          ]
        },
        {
          "output_type": "stream",
          "name": "stdout",
          "text": [
            "MoviePy - Done.\n"
          ]
        },
        {
          "output_type": "stream",
          "name": "stderr",
          "text": [
            "chunk:  95%|█████████▍| 209/221 [00:41<00:00, 735.73it/s, now=None]"
          ]
        },
        {
          "output_type": "stream",
          "name": "stdout",
          "text": [
            "MoviePy - Writing audio in audio/Expo in 100 Seconds-vFW_TxKLyrE.mp3\n"
          ]
        },
        {
          "output_type": "stream",
          "name": "stderr",
          "text": [
            "\n",
            "chunk:   0%|          | 0/177 [00:00<?, ?it/s, now=None]\u001b[A\n",
            "chunk:  40%|████      | 71/177 [00:00<00:00, 708.43it/s, now=None]\u001b[A\n",
            "chunk:  80%|████████  | 142/177 [00:00<00:00, 577.06it/s, now=None]\u001b[A\n",
            "chunk:  95%|█████████▍| 209/221 [00:41<00:00, 735.73it/s, now=None]"
          ]
        },
        {
          "output_type": "stream",
          "name": "stdout",
          "text": [
            "MoviePy - Done.\n",
            "MoviePy - Writing audio in audio/how god programmed birds probably-X8LglXSG53A.mp3\n"
          ]
        },
        {
          "output_type": "stream",
          "name": "stderr",
          "text": [
            "\n",
            "chunk:   0%|          | 0/177 [00:00<?, ?it/s, now=None]\u001b[A\n",
            "chunk:  30%|██▉       | 53/177 [00:00<00:00, 527.11it/s, now=None]\u001b[A\n",
            "chunk:  60%|█████▉    | 106/177 [00:00<00:00, 401.53it/s, now=None]\u001b[A\n",
            "chunk:  84%|████████▎ | 148/177 [00:00<00:00, 401.51it/s, now=None]\u001b[A\n",
            "chunk:  95%|█████████▍| 209/221 [00:42<00:00, 735.73it/s, now=None]"
          ]
        },
        {
          "output_type": "stream",
          "name": "stdout",
          "text": [
            "MoviePy - Done.\n"
          ]
        },
        {
          "output_type": "stream",
          "name": "stderr",
          "text": [
            "chunk:  95%|█████████▍| 209/221 [00:42<00:00, 735.73it/s, now=None]"
          ]
        },
        {
          "output_type": "stream",
          "name": "stdout",
          "text": [
            "MoviePy - Writing audio in audio/4  time fire #ship #water #bass #vikings #acapella #new #sad #sunset #trending #lyrics #music-580FarXeIPU.mp3\n"
          ]
        },
        {
          "output_type": "stream",
          "name": "stderr",
          "text": [
            "\n",
            "chunk:   0%|          | 0/177 [00:00<?, ?it/s, now=None]\u001b[A\n",
            "chunk:  28%|██▊       | 50/177 [00:00<00:00, 467.04it/s, now=None]\u001b[A\n",
            "chunk:  55%|█████▍    | 97/177 [00:00<00:00, 411.71it/s, now=None]\u001b[A\n",
            "chunk:  79%|███████▊  | 139/177 [00:00<00:00, 342.82it/s, now=None]\u001b[A\n",
            "chunk:  99%|█████████▉| 175/177 [00:00<00:00, 340.02it/s, now=None]\u001b[A\n",
            "chunk:  95%|█████████▍| 209/221 [00:42<00:00, 735.73it/s, now=None]"
          ]
        },
        {
          "output_type": "stream",
          "name": "stdout",
          "text": [
            "MoviePy - Done.\n"
          ]
        },
        {
          "output_type": "stream",
          "name": "stderr",
          "text": [
            "chunk:  95%|█████████▍| 209/221 [00:43<00:00, 735.73it/s, now=None]"
          ]
        },
        {
          "output_type": "stream",
          "name": "stdout",
          "text": [
            "MoviePy - Writing audio in audio/History of Entire Frontend under a minute - Inspired from @Fireship  _ Tamil-qnYvLh54PYE.mp3\n"
          ]
        },
        {
          "output_type": "stream",
          "name": "stderr",
          "text": [
            "\n",
            "chunk:   0%|          | 0/177 [00:00<?, ?it/s, now=None]\u001b[A\n",
            "chunk:  20%|██        | 36/177 [00:00<00:00, 327.09it/s, now=None]\u001b[A\n",
            "chunk:  39%|███▉      | 69/177 [00:00<00:00, 328.28it/s, now=None]\u001b[A\n",
            "chunk:  58%|█████▊    | 102/177 [00:00<00:00, 288.37it/s, now=None]\u001b[A\n",
            "chunk:  81%|████████  | 143/177 [00:00<00:00, 324.26it/s, now=None]\u001b[A\n",
            "chunk:  99%|█████████▉| 176/177 [00:00<00:00, 305.06it/s, now=None]\u001b[A\n",
            "chunk:  95%|█████████▍| 209/221 [00:43<00:00, 735.73it/s, now=None]"
          ]
        },
        {
          "output_type": "stream",
          "name": "stdout",
          "text": [
            "MoviePy - Done.\n"
          ]
        }
      ]
    },
    {
      "cell_type": "code",
      "source": [
        "import os\n",
        "import numpy as np\n",
        "\n",
        "try:\n",
        "    import tensorflow  # required in Colab to avoid protobuf compatibility issues\n",
        "except ImportError:\n",
        "    pass\n",
        "\n",
        "import torch\n",
        "import pandas as pd\n",
        "import whisper\n",
        "import torchaudio\n",
        "\n",
        "from tqdm import tqdm\n",
        "\n",
        "\n",
        "DEVICE = \"cuda\" if torch.cuda.is_available() else \"cpu\""
      ],
      "metadata": {
        "id": "KfJbpR50o3kY"
      },
      "execution_count": 10,
      "outputs": []
    },
    {
      "cell_type": "code",
      "source": [
        "model = whisper.load_model(\"base.en\")\n",
        "print(\n",
        "    f\"Model is {'multilingual' if model.is_multilingual else 'English-only'} \"\n",
        "    f\"and has {sum(np.prod(p.shape) for p in model.parameters()):,} parameters.\"\n",
        ")"
      ],
      "metadata": {
        "colab": {
          "base_uri": "https://localhost:8080/"
        },
        "id": "wFVn54J2v6U2",
        "outputId": "18d2299d-506c-44cd-f2da-68e1fcd3ccf0"
      },
      "execution_count": 15,
      "outputs": [
        {
          "output_type": "stream",
          "name": "stdout",
          "text": [
            "Model is English-only and has 71,825,408 parameters.\n"
          ]
        }
      ]
    },
    {
      "cell_type": "code",
      "source": [
        "transcribed_result = {}\n",
        "for file_name in tqdm(os.listdir(\"./audio\")):\n",
        "  print(f\"transcribing {file_name=}\")\n",
        "  text = model.transcribe(os.path.join(\"audio\", file_name))['text']\n",
        "  transcribed_result[file_name] = text"
      ],
      "metadata": {
        "colab": {
          "base_uri": "https://localhost:8080/",
          "height": 1000,
          "referenced_widgets": [
            "c4b51802fddd46d4afdf6d605cd49ccd",
            "4895f6bbc88544d8b56e945c9801e365",
            "74f02d95fce443fc9f4501486ecc1bef",
            "acc1c14cb83f49e7bf1314b33b21b68d",
            "538b21cdc023436982fd9d777475e557",
            "bbe1bb859a914d11a71a9e7e820d6577",
            "9066848c67c64219947a61c1d51085f0",
            "a8832f4aff984f0eb82fee84d30d2769",
            "d8e8271f0c614edb9f07dee9d0477dd9",
            "9df54ae9563241f18dc2551d687cded7",
            "0e28082305fd44ea94aa21fa38e10d22"
          ]
        },
        "id": "3bZm2nmiwI5g",
        "outputId": "798bbf90-39dd-4885-b1e6-de6c4a483519"
      },
      "execution_count": 31,
      "outputs": [
        {
          "output_type": "display_data",
          "data": {
            "text/plain": [
              "  0%|          | 0/15 [00:00<?, ?it/s]"
            ],
            "application/vnd.jupyter.widget-view+json": {
              "version_major": 2,
              "version_minor": 0,
              "model_id": "c4b51802fddd46d4afdf6d605cd49ccd"
            }
          },
          "metadata": {}
        },
        {
          "output_type": "stream",
          "name": "stderr",
          "text": [
            "WARNING:py.warnings:/usr/local/lib/python3.10/dist-packages/whisper/transcribe.py:126: UserWarning: FP16 is not supported on CPU; using FP32 instead\n",
            "  warnings.warn(\"FP16 is not supported on CPU; using FP32 instead\")\n",
            "\n"
          ]
        },
        {
          "output_type": "stream",
          "name": "stdout",
          "text": [
            "transcribing file_name='Pascal in 100 Seconds-K9mzg8ueiYA.mp3'\n"
          ]
        },
        {
          "output_type": "stream",
          "name": "stderr",
          "text": [
            "WARNING:py.warnings:/usr/local/lib/python3.10/dist-packages/whisper/transcribe.py:126: UserWarning: FP16 is not supported on CPU; using FP32 instead\n",
            "  warnings.warn(\"FP16 is not supported on CPU; using FP32 instead\")\n",
            "\n"
          ]
        },
        {
          "output_type": "stream",
          "name": "stdout",
          "text": [
            "transcribing file_name='4  time fire #ship #water #bass #vikings #acapella #new #sad #sunset #trending #lyrics #music-580FarXeIPU.mp3'\n"
          ]
        },
        {
          "output_type": "stream",
          "name": "stderr",
          "text": [
            "WARNING:py.warnings:/usr/local/lib/python3.10/dist-packages/whisper/transcribe.py:126: UserWarning: FP16 is not supported on CPU; using FP32 instead\n",
            "  warnings.warn(\"FP16 is not supported on CPU; using FP32 instead\")\n",
            "\n"
          ]
        },
        {
          "output_type": "stream",
          "name": "stdout",
          "text": [
            "transcribing file_name='how god programmed birds probably-X8LglXSG53A.mp3'\n"
          ]
        },
        {
          "output_type": "stream",
          "name": "stderr",
          "text": [
            "WARNING:py.warnings:/usr/local/lib/python3.10/dist-packages/whisper/transcribe.py:126: UserWarning: FP16 is not supported on CPU; using FP32 instead\n",
            "  warnings.warn(\"FP16 is not supported on CPU; using FP32 instead\")\n",
            "\n"
          ]
        },
        {
          "output_type": "stream",
          "name": "stdout",
          "text": [
            "transcribing file_name='History of Entire Frontend under a minute - Inspired from @Fireship  _ Tamil-qnYvLh54PYE.mp3'\n"
          ]
        },
        {
          "output_type": "stream",
          "name": "stderr",
          "text": [
            "WARNING:py.warnings:/usr/local/lib/python3.10/dist-packages/whisper/transcribe.py:126: UserWarning: FP16 is not supported on CPU; using FP32 instead\n",
            "  warnings.warn(\"FP16 is not supported on CPU; using FP32 instead\")\n",
            "\n"
          ]
        },
        {
          "output_type": "stream",
          "name": "stdout",
          "text": [
            "transcribing file_name='real HTML programmers debug in 3D-gGWQfV1FCis.mp3'\n"
          ]
        },
        {
          "output_type": "stream",
          "name": "stderr",
          "text": [
            "WARNING:py.warnings:/usr/local/lib/python3.10/dist-packages/whisper/transcribe.py:126: UserWarning: FP16 is not supported on CPU; using FP32 instead\n",
            "  warnings.warn(\"FP16 is not supported on CPU; using FP32 instead\")\n",
            "\n"
          ]
        },
        {
          "output_type": "stream",
          "name": "stdout",
          "text": [
            "transcribing file_name='Drizzle ORM in 100 Seconds-i_mAHOhpBSA.mp3'\n"
          ]
        },
        {
          "output_type": "stream",
          "name": "stderr",
          "text": [
            "WARNING:py.warnings:/usr/local/lib/python3.10/dist-packages/whisper/transcribe.py:126: UserWarning: FP16 is not supported on CPU; using FP32 instead\n",
            "  warnings.warn(\"FP16 is not supported on CPU; using FP32 instead\")\n",
            "\n"
          ]
        },
        {
          "output_type": "stream",
          "name": "stdout",
          "text": [
            "transcribing file_name='Nvidia CUDA in 100 Seconds-pPStdjuYzSI.mp3'\n"
          ]
        },
        {
          "output_type": "stream",
          "name": "stderr",
          "text": [
            "WARNING:py.warnings:/usr/local/lib/python3.10/dist-packages/whisper/transcribe.py:126: UserWarning: FP16 is not supported on CPU; using FP32 instead\n",
            "  warnings.warn(\"FP16 is not supported on CPU; using FP32 instead\")\n",
            "\n"
          ]
        },
        {
          "output_type": "stream",
          "name": "stdout",
          "text": [
            "transcribing file_name=\"Google has the best AI now, but there's a problem-xPA0LFzUDiE.mp3\"\n"
          ]
        },
        {
          "output_type": "stream",
          "name": "stderr",
          "text": [
            "WARNING:py.warnings:/usr/local/lib/python3.10/dist-packages/whisper/transcribe.py:126: UserWarning: FP16 is not supported on CPU; using FP32 instead\n",
            "  warnings.warn(\"FP16 is not supported on CPU; using FP32 instead\")\n",
            "\n"
          ]
        },
        {
          "output_type": "stream",
          "name": "stdout",
          "text": [
            "transcribing file_name='Erlang in 100 Seconds-M7uo5jmFDUw.mp3'\n"
          ]
        },
        {
          "output_type": "stream",
          "name": "stderr",
          "text": [
            "WARNING:py.warnings:/usr/local/lib/python3.10/dist-packages/whisper/transcribe.py:126: UserWarning: FP16 is not supported on CPU; using FP32 instead\n",
            "  warnings.warn(\"FP16 is not supported on CPU; using FP32 instead\")\n",
            "\n"
          ]
        },
        {
          "output_type": "stream",
          "name": "stdout",
          "text": [
            "transcribing file_name='Apple drops ban hammer on Epic Games over mean tweet-wbQwD3QS19I.mp3'\n"
          ]
        },
        {
          "output_type": "stream",
          "name": "stderr",
          "text": [
            "WARNING:py.warnings:/usr/local/lib/python3.10/dist-packages/whisper/transcribe.py:126: UserWarning: FP16 is not supported on CPU; using FP32 instead\n",
            "  warnings.warn(\"FP16 is not supported on CPU; using FP32 instead\")\n",
            "\n"
          ]
        },
        {
          "output_type": "stream",
          "name": "stdout",
          "text": [
            "transcribing file_name='Wings of fire ships I despise basically _ #banwhirlpoolxanemone #ilovemycat #glory #wingsoffire-Iu8XMUPJ6gE.mp3'\n"
          ]
        },
        {
          "output_type": "stream",
          "name": "stderr",
          "text": [
            "WARNING:py.warnings:/usr/local/lib/python3.10/dist-packages/whisper/transcribe.py:126: UserWarning: FP16 is not supported on CPU; using FP32 instead\n",
            "  warnings.warn(\"FP16 is not supported on CPU; using FP32 instead\")\n",
            "\n"
          ]
        },
        {
          "output_type": "stream",
          "name": "stdout",
          "text": [
            "transcribing file_name=\"Elon's bombshell lawsuit against OpenAI-KbzGy3whpy0.mp3\"\n"
          ]
        },
        {
          "output_type": "stream",
          "name": "stderr",
          "text": [
            "WARNING:py.warnings:/usr/local/lib/python3.10/dist-packages/whisper/transcribe.py:126: UserWarning: FP16 is not supported on CPU; using FP32 instead\n",
            "  warnings.warn(\"FP16 is not supported on CPU; using FP32 instead\")\n",
            "\n"
          ]
        },
        {
          "output_type": "stream",
          "name": "stdout",
          "text": [
            "transcribing file_name='gangastar fireship #gangastergang-qQ-meCF0478.mp3'\n"
          ]
        },
        {
          "output_type": "stream",
          "name": "stderr",
          "text": [
            "WARNING:py.warnings:/usr/local/lib/python3.10/dist-packages/whisper/transcribe.py:126: UserWarning: FP16 is not supported on CPU; using FP32 instead\n",
            "  warnings.warn(\"FP16 is not supported on CPU; using FP32 instead\")\n",
            "\n"
          ]
        },
        {
          "output_type": "stream",
          "name": "stdout",
          "text": [
            "transcribing file_name='Fireships sent to sea by the Vikings  - Symbol of a Journey After Death #shorts #history-xrdyWRr5OGQ.mp3'\n"
          ]
        },
        {
          "output_type": "stream",
          "name": "stderr",
          "text": [
            "WARNING:py.warnings:/usr/local/lib/python3.10/dist-packages/whisper/transcribe.py:126: UserWarning: FP16 is not supported on CPU; using FP32 instead\n",
            "  warnings.warn(\"FP16 is not supported on CPU; using FP32 instead\")\n",
            "\n"
          ]
        },
        {
          "output_type": "stream",
          "name": "stdout",
          "text": [
            "transcribing file_name='Expo in 100 Seconds-vFW_TxKLyrE.mp3'\n"
          ]
        }
      ]
    },
    {
      "cell_type": "code",
      "source": [
        "transcribed_result"
      ],
      "metadata": {
        "colab": {
          "base_uri": "https://localhost:8080/"
        },
        "id": "beGS_20Pw9Ry",
        "outputId": "289f4032-7206-4adb-dd70-58bf9497a170"
      },
      "execution_count": 32,
      "outputs": [
        {
          "output_type": "execute_result",
          "data": {
            "text/plain": [
              "{'Pascal in 100 Seconds-K9mzg8ueiYA.mp3': ' Pascal, a procedural high-level programming language, famous for teaching a generation of kids from the 70s and 80s how to code. It was created by Nick-',\n",
              " '4  time fire #ship #water #bass #vikings #acapella #new #sad #sunset #trending #lyrics #music-580FarXeIPU.mp3': ' You All hands',\n",
              " 'how god programmed birds probably-X8LglXSG53A.mp3': \" Just look at this flock of birds. It's so majestic, but how do they all fly together in unison like that? It's not magic. It's an algorithm built into nature and we can\",\n",
              " 'History of Entire Frontend under a minute - Inspired from @Fireship  _ Tamil-qnYvLh54PYE.mp3': \" I don't want to put this, it leads to This Choice isbay dock Well if you're more than 60 refreshments those days\",\n",
              " 'real HTML programmers debug in 3D-gGWQfV1FCis.mp3': \" If you're an HTML programmer, you've likely seen crazy nested code like this. Ugly code is one thing, but the real problem is that your UI disappeared because you've got a bunch of other j-\",\n",
              " 'Drizzle ORM in 100 Seconds-i_mAHOhpBSA.mp3': ' Drizzle ORM, a lightweight set of tools that makes TypeSafe object relational mapping with your favorite relational database fun again. Most apps',\n",
              " 'Nvidia CUDA in 100 Seconds-pPStdjuYzSI.mp3': ' CUDA, a parallel computing platform that allows you to use your GPU for more than just playing video games. Compute Unified Device Architect.',\n",
              " \"Google has the best AI now, but there's a problem-xPA0LFzUDiE.mp3\": ' This has been the craziest week ever. That is, if your name happens to be Google, it released some of the most impressive new technology in history. Wow. Had to apologize.',\n",
              " 'Erlang in 100 Seconds-M7uo5jmFDUw.mp3': ' Erlang, a functional fault-tolerant programming language and runtime, famous for scaling up the entire telecommunications industry with its bearing.',\n",
              " 'Apple drops ban hammer on Epic Games over mean tweet-wbQwD3QS19I.mp3': ' Earlier this week, Apple took a massive L. It got fined 1.8 billion euros by the EU for banning streaming services like Spotify from telling you',\n",
              " 'Wings of fire ships I despise basically _ #banwhirlpoolxanemone #ilovemycat #glory #wingsoffire-Iu8XMUPJ6gE.mp3': \" We'll go down just like calling Mary Mary on a, Mary on a far street\",\n",
              " \"Elon's bombshell lawsuit against OpenAI-KbzGy3whpy0.mp3\": \" It's no secret that OpenAI is not open based on the English translation of the word. Most of their tech is not open source and not open to the public, and\",\n",
              " 'gangastar fireship #gangastergang-qQ-meCF0478.mp3': \" And I'm gonna better God, oh come on, And I'm gonna better God, oh come on, And I'm gonna\",\n",
              " 'Fireships sent to sea by the Vikings  - Symbol of a Journey After Death #shorts #history-xrdyWRr5OGQ.mp3': \" to Vikings, to brave sailors and warriors of the north, are known for their unique fireship ceremony for burying the dead. This ain't\",\n",
              " 'Expo in 100 Seconds-vFW_TxKLyrE.mp3': ' Expo, an open source tool set for building universal native apps on iOS, Android, and the web with a single React code base. Normally...'}"
            ]
          },
          "metadata": {},
          "execution_count": 32
        }
      ]
    },
    {
      "cell_type": "code",
      "source": [
        "t = []\n",
        "for k, v in transcribed_result.items():\n",
        "  for vid in video_ids:\n",
        "    if vid in k and vid not in [\"580FarXeIPU\", \"Iu8XMUPJ6gE\"]:\n",
        "      url = f'https://www.youtube.com/watch?v={vid}'\n",
        "      title = k.split(\"-\")[0]\n",
        "      t.append({\"title\": title, \"url\": url, \"hook\": v})\n",
        "      print(title)\n",
        "      print(url)"
      ],
      "metadata": {
        "colab": {
          "base_uri": "https://localhost:8080/"
        },
        "id": "qFGWtO5rxnVO",
        "outputId": "91f1dada-11de-4a85-998e-258b68f62bda"
      },
      "execution_count": 37,
      "outputs": [
        {
          "output_type": "stream",
          "name": "stdout",
          "text": [
            "Pascal in 100 Seconds\n",
            "https://www.youtube.com/watch?v=K9mzg8ueiYA\n",
            "how god programmed birds probably\n",
            "https://www.youtube.com/watch?v=X8LglXSG53A\n",
            "History of Entire Frontend under a minute \n",
            "https://www.youtube.com/watch?v=qnYvLh54PYE\n",
            "real HTML programmers debug in 3D\n",
            "https://www.youtube.com/watch?v=gGWQfV1FCis\n",
            "Drizzle ORM in 100 Seconds\n",
            "https://www.youtube.com/watch?v=i_mAHOhpBSA\n",
            "Nvidia CUDA in 100 Seconds\n",
            "https://www.youtube.com/watch?v=pPStdjuYzSI\n",
            "Google has the best AI now, but there's a problem\n",
            "https://www.youtube.com/watch?v=xPA0LFzUDiE\n",
            "Erlang in 100 Seconds\n",
            "https://www.youtube.com/watch?v=M7uo5jmFDUw\n",
            "Apple drops ban hammer on Epic Games over mean tweet\n",
            "https://www.youtube.com/watch?v=wbQwD3QS19I\n",
            "Elon's bombshell lawsuit against OpenAI\n",
            "https://www.youtube.com/watch?v=KbzGy3whpy0\n",
            "gangastar fireship #gangastergang\n",
            "https://www.youtube.com/watch?v=qQ-meCF0478\n",
            "Fireships sent to sea by the Vikings  \n",
            "https://www.youtube.com/watch?v=xrdyWRr5OGQ\n",
            "Expo in 100 Seconds\n",
            "https://www.youtube.com/watch?v=vFW_TxKLyrE\n"
          ]
        }
      ]
    },
    {
      "cell_type": "code",
      "source": [
        "import pandas as pd\n",
        "pd.DataFrame(t)"
      ],
      "metadata": {
        "colab": {
          "base_uri": "https://localhost:8080/",
          "height": 683
        },
        "id": "u79AlTCA4AlC",
        "outputId": "8ea60ab9-adf7-4e2a-c7a0-52ca7e08550d"
      },
      "execution_count": 41,
      "outputs": [
        {
          "output_type": "execute_result",
          "data": {
            "text/plain": [
              "                                                title  \\\n",
              "0                               Pascal in 100 Seconds   \n",
              "1                   how god programmed birds probably   \n",
              "2          History of Entire Frontend under a minute    \n",
              "3                   real HTML programmers debug in 3D   \n",
              "4                          Drizzle ORM in 100 Seconds   \n",
              "5                          Nvidia CUDA in 100 Seconds   \n",
              "6   Google has the best AI now, but there's a problem   \n",
              "7                               Erlang in 100 Seconds   \n",
              "8   Apple drops ban hammer on Epic Games over mean...   \n",
              "9             Elon's bombshell lawsuit against OpenAI   \n",
              "10                  gangastar fireship #gangastergang   \n",
              "11             Fireships sent to sea by the Vikings     \n",
              "12                                Expo in 100 Seconds   \n",
              "\n",
              "                                            url  \\\n",
              "0   https://www.youtube.com/watch?v=K9mzg8ueiYA   \n",
              "1   https://www.youtube.com/watch?v=X8LglXSG53A   \n",
              "2   https://www.youtube.com/watch?v=qnYvLh54PYE   \n",
              "3   https://www.youtube.com/watch?v=gGWQfV1FCis   \n",
              "4   https://www.youtube.com/watch?v=i_mAHOhpBSA   \n",
              "5   https://www.youtube.com/watch?v=pPStdjuYzSI   \n",
              "6   https://www.youtube.com/watch?v=xPA0LFzUDiE   \n",
              "7   https://www.youtube.com/watch?v=M7uo5jmFDUw   \n",
              "8   https://www.youtube.com/watch?v=wbQwD3QS19I   \n",
              "9   https://www.youtube.com/watch?v=KbzGy3whpy0   \n",
              "10  https://www.youtube.com/watch?v=qQ-meCF0478   \n",
              "11  https://www.youtube.com/watch?v=xrdyWRr5OGQ   \n",
              "12  https://www.youtube.com/watch?v=vFW_TxKLyrE   \n",
              "\n",
              "                                                 hook  \n",
              "0    Pascal, a procedural high-level programming l...  \n",
              "1    Just look at this flock of birds. It's so maj...  \n",
              "2    I don't want to put this, it leads to This Ch...  \n",
              "3    If you're an HTML programmer, you've likely s...  \n",
              "4    Drizzle ORM, a lightweight set of tools that ...  \n",
              "5    CUDA, a parallel computing platform that allo...  \n",
              "6    This has been the craziest week ever. That is...  \n",
              "7    Erlang, a functional fault-tolerant programmi...  \n",
              "8    Earlier this week, Apple took a massive L. It...  \n",
              "9    It's no secret that OpenAI is not open based ...  \n",
              "10   And I'm gonna better God, oh come on, And I'm...  \n",
              "11   to Vikings, to brave sailors and warriors of ...  \n",
              "12   Expo, an open source tool set for building un...  "
            ],
            "text/html": [
              "\n",
              "  <div id=\"df-c9a35f20-fdce-40c6-8727-031903cd6291\" class=\"colab-df-container\">\n",
              "    <div>\n",
              "<style scoped>\n",
              "    .dataframe tbody tr th:only-of-type {\n",
              "        vertical-align: middle;\n",
              "    }\n",
              "\n",
              "    .dataframe tbody tr th {\n",
              "        vertical-align: top;\n",
              "    }\n",
              "\n",
              "    .dataframe thead th {\n",
              "        text-align: right;\n",
              "    }\n",
              "</style>\n",
              "<table border=\"1\" class=\"dataframe\">\n",
              "  <thead>\n",
              "    <tr style=\"text-align: right;\">\n",
              "      <th></th>\n",
              "      <th>title</th>\n",
              "      <th>url</th>\n",
              "      <th>hook</th>\n",
              "    </tr>\n",
              "  </thead>\n",
              "  <tbody>\n",
              "    <tr>\n",
              "      <th>0</th>\n",
              "      <td>Pascal in 100 Seconds</td>\n",
              "      <td>https://www.youtube.com/watch?v=K9mzg8ueiYA</td>\n",
              "      <td>Pascal, a procedural high-level programming l...</td>\n",
              "    </tr>\n",
              "    <tr>\n",
              "      <th>1</th>\n",
              "      <td>how god programmed birds probably</td>\n",
              "      <td>https://www.youtube.com/watch?v=X8LglXSG53A</td>\n",
              "      <td>Just look at this flock of birds. It's so maj...</td>\n",
              "    </tr>\n",
              "    <tr>\n",
              "      <th>2</th>\n",
              "      <td>History of Entire Frontend under a minute</td>\n",
              "      <td>https://www.youtube.com/watch?v=qnYvLh54PYE</td>\n",
              "      <td>I don't want to put this, it leads to This Ch...</td>\n",
              "    </tr>\n",
              "    <tr>\n",
              "      <th>3</th>\n",
              "      <td>real HTML programmers debug in 3D</td>\n",
              "      <td>https://www.youtube.com/watch?v=gGWQfV1FCis</td>\n",
              "      <td>If you're an HTML programmer, you've likely s...</td>\n",
              "    </tr>\n",
              "    <tr>\n",
              "      <th>4</th>\n",
              "      <td>Drizzle ORM in 100 Seconds</td>\n",
              "      <td>https://www.youtube.com/watch?v=i_mAHOhpBSA</td>\n",
              "      <td>Drizzle ORM, a lightweight set of tools that ...</td>\n",
              "    </tr>\n",
              "    <tr>\n",
              "      <th>5</th>\n",
              "      <td>Nvidia CUDA in 100 Seconds</td>\n",
              "      <td>https://www.youtube.com/watch?v=pPStdjuYzSI</td>\n",
              "      <td>CUDA, a parallel computing platform that allo...</td>\n",
              "    </tr>\n",
              "    <tr>\n",
              "      <th>6</th>\n",
              "      <td>Google has the best AI now, but there's a problem</td>\n",
              "      <td>https://www.youtube.com/watch?v=xPA0LFzUDiE</td>\n",
              "      <td>This has been the craziest week ever. That is...</td>\n",
              "    </tr>\n",
              "    <tr>\n",
              "      <th>7</th>\n",
              "      <td>Erlang in 100 Seconds</td>\n",
              "      <td>https://www.youtube.com/watch?v=M7uo5jmFDUw</td>\n",
              "      <td>Erlang, a functional fault-tolerant programmi...</td>\n",
              "    </tr>\n",
              "    <tr>\n",
              "      <th>8</th>\n",
              "      <td>Apple drops ban hammer on Epic Games over mean...</td>\n",
              "      <td>https://www.youtube.com/watch?v=wbQwD3QS19I</td>\n",
              "      <td>Earlier this week, Apple took a massive L. It...</td>\n",
              "    </tr>\n",
              "    <tr>\n",
              "      <th>9</th>\n",
              "      <td>Elon's bombshell lawsuit against OpenAI</td>\n",
              "      <td>https://www.youtube.com/watch?v=KbzGy3whpy0</td>\n",
              "      <td>It's no secret that OpenAI is not open based ...</td>\n",
              "    </tr>\n",
              "    <tr>\n",
              "      <th>10</th>\n",
              "      <td>gangastar fireship #gangastergang</td>\n",
              "      <td>https://www.youtube.com/watch?v=qQ-meCF0478</td>\n",
              "      <td>And I'm gonna better God, oh come on, And I'm...</td>\n",
              "    </tr>\n",
              "    <tr>\n",
              "      <th>11</th>\n",
              "      <td>Fireships sent to sea by the Vikings</td>\n",
              "      <td>https://www.youtube.com/watch?v=xrdyWRr5OGQ</td>\n",
              "      <td>to Vikings, to brave sailors and warriors of ...</td>\n",
              "    </tr>\n",
              "    <tr>\n",
              "      <th>12</th>\n",
              "      <td>Expo in 100 Seconds</td>\n",
              "      <td>https://www.youtube.com/watch?v=vFW_TxKLyrE</td>\n",
              "      <td>Expo, an open source tool set for building un...</td>\n",
              "    </tr>\n",
              "  </tbody>\n",
              "</table>\n",
              "</div>\n",
              "    <div class=\"colab-df-buttons\">\n",
              "\n",
              "  <div class=\"colab-df-container\">\n",
              "    <button class=\"colab-df-convert\" onclick=\"convertToInteractive('df-c9a35f20-fdce-40c6-8727-031903cd6291')\"\n",
              "            title=\"Convert this dataframe to an interactive table.\"\n",
              "            style=\"display:none;\">\n",
              "\n",
              "  <svg xmlns=\"http://www.w3.org/2000/svg\" height=\"24px\" viewBox=\"0 -960 960 960\">\n",
              "    <path d=\"M120-120v-720h720v720H120Zm60-500h600v-160H180v160Zm220 220h160v-160H400v160Zm0 220h160v-160H400v160ZM180-400h160v-160H180v160Zm440 0h160v-160H620v160ZM180-180h160v-160H180v160Zm440 0h160v-160H620v160Z\"/>\n",
              "  </svg>\n",
              "    </button>\n",
              "\n",
              "  <style>\n",
              "    .colab-df-container {\n",
              "      display:flex;\n",
              "      gap: 12px;\n",
              "    }\n",
              "\n",
              "    .colab-df-convert {\n",
              "      background-color: #E8F0FE;\n",
              "      border: none;\n",
              "      border-radius: 50%;\n",
              "      cursor: pointer;\n",
              "      display: none;\n",
              "      fill: #1967D2;\n",
              "      height: 32px;\n",
              "      padding: 0 0 0 0;\n",
              "      width: 32px;\n",
              "    }\n",
              "\n",
              "    .colab-df-convert:hover {\n",
              "      background-color: #E2EBFA;\n",
              "      box-shadow: 0px 1px 2px rgba(60, 64, 67, 0.3), 0px 1px 3px 1px rgba(60, 64, 67, 0.15);\n",
              "      fill: #174EA6;\n",
              "    }\n",
              "\n",
              "    .colab-df-buttons div {\n",
              "      margin-bottom: 4px;\n",
              "    }\n",
              "\n",
              "    [theme=dark] .colab-df-convert {\n",
              "      background-color: #3B4455;\n",
              "      fill: #D2E3FC;\n",
              "    }\n",
              "\n",
              "    [theme=dark] .colab-df-convert:hover {\n",
              "      background-color: #434B5C;\n",
              "      box-shadow: 0px 1px 3px 1px rgba(0, 0, 0, 0.15);\n",
              "      filter: drop-shadow(0px 1px 2px rgba(0, 0, 0, 0.3));\n",
              "      fill: #FFFFFF;\n",
              "    }\n",
              "  </style>\n",
              "\n",
              "    <script>\n",
              "      const buttonEl =\n",
              "        document.querySelector('#df-c9a35f20-fdce-40c6-8727-031903cd6291 button.colab-df-convert');\n",
              "      buttonEl.style.display =\n",
              "        google.colab.kernel.accessAllowed ? 'block' : 'none';\n",
              "\n",
              "      async function convertToInteractive(key) {\n",
              "        const element = document.querySelector('#df-c9a35f20-fdce-40c6-8727-031903cd6291');\n",
              "        const dataTable =\n",
              "          await google.colab.kernel.invokeFunction('convertToInteractive',\n",
              "                                                    [key], {});\n",
              "        if (!dataTable) return;\n",
              "\n",
              "        const docLinkHtml = 'Like what you see? Visit the ' +\n",
              "          '<a target=\"_blank\" href=https://colab.research.google.com/notebooks/data_table.ipynb>data table notebook</a>'\n",
              "          + ' to learn more about interactive tables.';\n",
              "        element.innerHTML = '';\n",
              "        dataTable['output_type'] = 'display_data';\n",
              "        await google.colab.output.renderOutput(dataTable, element);\n",
              "        const docLink = document.createElement('div');\n",
              "        docLink.innerHTML = docLinkHtml;\n",
              "        element.appendChild(docLink);\n",
              "      }\n",
              "    </script>\n",
              "  </div>\n",
              "\n",
              "\n",
              "<div id=\"df-80f45570-5ee8-40dc-95cc-475e85277a3a\">\n",
              "  <button class=\"colab-df-quickchart\" onclick=\"quickchart('df-80f45570-5ee8-40dc-95cc-475e85277a3a')\"\n",
              "            title=\"Suggest charts\"\n",
              "            style=\"display:none;\">\n",
              "\n",
              "<svg xmlns=\"http://www.w3.org/2000/svg\" height=\"24px\"viewBox=\"0 0 24 24\"\n",
              "     width=\"24px\">\n",
              "    <g>\n",
              "        <path d=\"M19 3H5c-1.1 0-2 .9-2 2v14c0 1.1.9 2 2 2h14c1.1 0 2-.9 2-2V5c0-1.1-.9-2-2-2zM9 17H7v-7h2v7zm4 0h-2V7h2v10zm4 0h-2v-4h2v4z\"/>\n",
              "    </g>\n",
              "</svg>\n",
              "  </button>\n",
              "\n",
              "<style>\n",
              "  .colab-df-quickchart {\n",
              "      --bg-color: #E8F0FE;\n",
              "      --fill-color: #1967D2;\n",
              "      --hover-bg-color: #E2EBFA;\n",
              "      --hover-fill-color: #174EA6;\n",
              "      --disabled-fill-color: #AAA;\n",
              "      --disabled-bg-color: #DDD;\n",
              "  }\n",
              "\n",
              "  [theme=dark] .colab-df-quickchart {\n",
              "      --bg-color: #3B4455;\n",
              "      --fill-color: #D2E3FC;\n",
              "      --hover-bg-color: #434B5C;\n",
              "      --hover-fill-color: #FFFFFF;\n",
              "      --disabled-bg-color: #3B4455;\n",
              "      --disabled-fill-color: #666;\n",
              "  }\n",
              "\n",
              "  .colab-df-quickchart {\n",
              "    background-color: var(--bg-color);\n",
              "    border: none;\n",
              "    border-radius: 50%;\n",
              "    cursor: pointer;\n",
              "    display: none;\n",
              "    fill: var(--fill-color);\n",
              "    height: 32px;\n",
              "    padding: 0;\n",
              "    width: 32px;\n",
              "  }\n",
              "\n",
              "  .colab-df-quickchart:hover {\n",
              "    background-color: var(--hover-bg-color);\n",
              "    box-shadow: 0 1px 2px rgba(60, 64, 67, 0.3), 0 1px 3px 1px rgba(60, 64, 67, 0.15);\n",
              "    fill: var(--button-hover-fill-color);\n",
              "  }\n",
              "\n",
              "  .colab-df-quickchart-complete:disabled,\n",
              "  .colab-df-quickchart-complete:disabled:hover {\n",
              "    background-color: var(--disabled-bg-color);\n",
              "    fill: var(--disabled-fill-color);\n",
              "    box-shadow: none;\n",
              "  }\n",
              "\n",
              "  .colab-df-spinner {\n",
              "    border: 2px solid var(--fill-color);\n",
              "    border-color: transparent;\n",
              "    border-bottom-color: var(--fill-color);\n",
              "    animation:\n",
              "      spin 1s steps(1) infinite;\n",
              "  }\n",
              "\n",
              "  @keyframes spin {\n",
              "    0% {\n",
              "      border-color: transparent;\n",
              "      border-bottom-color: var(--fill-color);\n",
              "      border-left-color: var(--fill-color);\n",
              "    }\n",
              "    20% {\n",
              "      border-color: transparent;\n",
              "      border-left-color: var(--fill-color);\n",
              "      border-top-color: var(--fill-color);\n",
              "    }\n",
              "    30% {\n",
              "      border-color: transparent;\n",
              "      border-left-color: var(--fill-color);\n",
              "      border-top-color: var(--fill-color);\n",
              "      border-right-color: var(--fill-color);\n",
              "    }\n",
              "    40% {\n",
              "      border-color: transparent;\n",
              "      border-right-color: var(--fill-color);\n",
              "      border-top-color: var(--fill-color);\n",
              "    }\n",
              "    60% {\n",
              "      border-color: transparent;\n",
              "      border-right-color: var(--fill-color);\n",
              "    }\n",
              "    80% {\n",
              "      border-color: transparent;\n",
              "      border-right-color: var(--fill-color);\n",
              "      border-bottom-color: var(--fill-color);\n",
              "    }\n",
              "    90% {\n",
              "      border-color: transparent;\n",
              "      border-bottom-color: var(--fill-color);\n",
              "    }\n",
              "  }\n",
              "</style>\n",
              "\n",
              "  <script>\n",
              "    async function quickchart(key) {\n",
              "      const quickchartButtonEl =\n",
              "        document.querySelector('#' + key + ' button');\n",
              "      quickchartButtonEl.disabled = true;  // To prevent multiple clicks.\n",
              "      quickchartButtonEl.classList.add('colab-df-spinner');\n",
              "      try {\n",
              "        const charts = await google.colab.kernel.invokeFunction(\n",
              "            'suggestCharts', [key], {});\n",
              "      } catch (error) {\n",
              "        console.error('Error during call to suggestCharts:', error);\n",
              "      }\n",
              "      quickchartButtonEl.classList.remove('colab-df-spinner');\n",
              "      quickchartButtonEl.classList.add('colab-df-quickchart-complete');\n",
              "    }\n",
              "    (() => {\n",
              "      let quickchartButtonEl =\n",
              "        document.querySelector('#df-80f45570-5ee8-40dc-95cc-475e85277a3a button');\n",
              "      quickchartButtonEl.style.display =\n",
              "        google.colab.kernel.accessAllowed ? 'block' : 'none';\n",
              "    })();\n",
              "  </script>\n",
              "</div>\n",
              "    </div>\n",
              "  </div>\n"
            ],
            "application/vnd.google.colaboratory.intrinsic+json": {
              "type": "dataframe",
              "summary": "{\n  \"name\": \"pd\",\n  \"rows\": 13,\n  \"fields\": [\n    {\n      \"column\": \"title\",\n      \"properties\": {\n        \"dtype\": \"string\",\n        \"num_unique_values\": 13,\n        \"samples\": [\n          \"Fireships sent to sea by the Vikings  \",\n          \"Elon's bombshell lawsuit against OpenAI\",\n          \"Pascal in 100 Seconds\"\n        ],\n        \"semantic_type\": \"\",\n        \"description\": \"\"\n      }\n    },\n    {\n      \"column\": \"url\",\n      \"properties\": {\n        \"dtype\": \"string\",\n        \"num_unique_values\": 13,\n        \"samples\": [\n          \"https://www.youtube.com/watch?v=xrdyWRr5OGQ\",\n          \"https://www.youtube.com/watch?v=KbzGy3whpy0\",\n          \"https://www.youtube.com/watch?v=K9mzg8ueiYA\"\n        ],\n        \"semantic_type\": \"\",\n        \"description\": \"\"\n      }\n    },\n    {\n      \"column\": \"hook\",\n      \"properties\": {\n        \"dtype\": \"string\",\n        \"num_unique_values\": 13,\n        \"samples\": [\n          \" to Vikings, to brave sailors and warriors of the north, are known for their unique fireship ceremony for burying the dead. This ain't\",\n          \" It's no secret that OpenAI is not open based on the English translation of the word. Most of their tech is not open source and not open to the public, and\",\n          \" Pascal, a procedural high-level programming language, famous for teaching a generation of kids from the 70s and 80s how to code. It was created by Nick-\"\n        ],\n        \"semantic_type\": \"\",\n        \"description\": \"\"\n      }\n    }\n  ]\n}"
            }
          },
          "metadata": {},
          "execution_count": 41
        }
      ]
    },
    {
      "cell_type": "code",
      "source": [],
      "metadata": {
        "id": "xDDOntSc4wAA"
      },
      "execution_count": null,
      "outputs": []
    }
  ]
}